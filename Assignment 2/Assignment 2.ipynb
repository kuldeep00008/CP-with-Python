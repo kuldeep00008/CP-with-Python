{
 "cells": [
  {
   "cell_type": "markdown",
   "metadata": {},
   "source": [
    "# Kuldeep Raheja"
   ]
  },
  {
   "cell_type": "markdown",
   "metadata": {},
   "source": [
    "## Assignment 2"
   ]
  },
  {
   "cell_type": "markdown",
   "metadata": {},
   "source": [
    "### Q1. Write a lambda expression to extract first word of a string."
   ]
  },
  {
   "cell_type": "code",
   "execution_count": 3,
   "metadata": {},
   "outputs": [
    {
     "data": {
      "text/plain": [
       "'First'"
      ]
     },
     "execution_count": 3,
     "metadata": {},
     "output_type": "execute_result"
    }
   ],
   "source": [
    "func1 = lambda x:x.split()[0]\n",
    "\n",
    "func1('First word of this sentence')"
   ]
  },
  {
   "cell_type": "markdown",
   "metadata": {},
   "source": [
    "### Q2. Write a function to extract first word of s string (with many words separated by space)."
   ]
  },
  {
   "cell_type": "code",
   "execution_count": 9,
   "metadata": {},
   "outputs": [
    {
     "data": {
      "text/plain": [
       "'First'"
      ]
     },
     "execution_count": 9,
     "metadata": {},
     "output_type": "execute_result"
    }
   ],
   "source": [
    "def func2(x):\n",
    "    return x.split()[0]\n",
    "\n",
    "func2('First word of this sentence')"
   ]
  },
  {
   "cell_type": "markdown",
   "metadata": {},
   "source": [
    "### Q3. Extract the first word from every string from a list of strings by using map function."
   ]
  },
  {
   "cell_type": "code",
   "execution_count": 10,
   "metadata": {},
   "outputs": [
    {
     "name": "stdout",
     "output_type": "stream",
     "text": [
      "Lorem\n",
      "the\n",
      "Lorem\n",
      "standard\n"
     ]
    }
   ],
   "source": [
    "strings = ['Lorem Ipsum is simply dummy text of', 'the printing and typesetting industry.','Lorem Ipsum has been the industry', 'standard dummy text ever since the']\n",
    "lst = map(lambda x:x.split()[0],strings)\n",
    "for i in lst:\n",
    "    print(i)"
   ]
  },
  {
   "cell_type": "markdown",
   "metadata": {},
   "source": [
    "### Q4. Write a function to return a list of prime factors of a given number."
   ]
  },
  {
   "cell_type": "code",
   "execution_count": 19,
   "metadata": {},
   "outputs": [
    {
     "data": {
      "text/plain": [
       "[2, 23, 61]"
      ]
     },
     "execution_count": 19,
     "metadata": {},
     "output_type": "execute_result"
    }
   ],
   "source": [
    "def prime_factors(x):\n",
    "    factors=[]\n",
    "    i=2\n",
    "    while x>1:\n",
    "        if x%i==0:\n",
    "            factors.append(i)\n",
    "            x=x//i\n",
    "        else:\n",
    "            i+=1\n",
    "    return factors\n",
    "\n",
    "prime_factors(2806)"
   ]
  },
  {
   "cell_type": "markdown",
   "metadata": {},
   "source": [
    "### Q5. Write a function that finds 2nd largest among 4 numbers (Repetitions are allowed, without sorting)."
   ]
  },
  {
   "cell_type": "code",
   "execution_count": 36,
   "metadata": {},
   "outputs": [
    {
     "data": {
      "text/plain": [
       "5"
      ]
     },
     "execution_count": 36,
     "metadata": {},
     "output_type": "execute_result"
    }
   ],
   "source": [
    "def second_largest(a,b,c,d):\n",
    "    lar1=0\n",
    "    lar2=0\n",
    "    a=[a,b,c,d]\n",
    "    if a[0]>a[1]:\n",
    "        lar1=a[0]\n",
    "        lar2=a[1]\n",
    "    else:\n",
    "        lar1=a[1]\n",
    "        lar2=a[0]\n",
    "    for i in range(2,4):\n",
    "        if a[i]>lar1:\n",
    "            lar2=lar1\n",
    "            lar1=a[i]\n",
    "        elif a[i]<lar1 and a[i]>lar2:\n",
    "            lar2=a[i]\n",
    "    return lar2\n",
    "\n",
    "second_largest(6,2,5,5)"
   ]
  }
 ],
 "metadata": {
  "kernelspec": {
   "display_name": "Python 3",
   "language": "python",
   "name": "python3"
  },
  "language_info": {
   "codemirror_mode": {
    "name": "ipython",
    "version": 3
   },
   "file_extension": ".py",
   "mimetype": "text/x-python",
   "name": "python",
   "nbconvert_exporter": "python",
   "pygments_lexer": "ipython3",
   "version": "3.8.3"
  }
 },
 "nbformat": 4,
 "nbformat_minor": 5
}
